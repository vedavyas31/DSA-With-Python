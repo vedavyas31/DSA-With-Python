{
 "cells": [
  {
   "cell_type": "markdown",
   "id": "4dbeba13-4f30-43a0-87fa-5ba9b2379fff",
   "metadata": {},
   "source": [
    "Reverse a given string"
   ]
  },
  {
   "cell_type": "code",
   "execution_count": 5,
   "id": "29d00e3c-9cea-48c6-8489-736085320520",
   "metadata": {},
   "outputs": [
    {
     "name": "stdout",
     "output_type": "stream",
     "text": [
      "1dlrow olleh\n"
     ]
    }
   ],
   "source": [
    "# Solution 1\n",
    "\n",
    "def reverse1(str):\n",
    "    rev_str = ''\n",
    "    for i in range(len(str)-1, -1, -1):\n",
    "        rev_str += str[i]\n",
    "    print(rev_str)\n",
    "\n",
    "reverse1('hello world1')"
   ]
  },
  {
   "cell_type": "code",
   "execution_count": 3,
   "id": "3b19797a-f1ee-4243-b41a-47f796f6274c",
   "metadata": {},
   "outputs": [
    {
     "name": "stdout",
     "output_type": "stream",
     "text": [
      "2dlrow olleh\n"
     ]
    }
   ],
   "source": [
    "# Solution 2\n",
    "\n",
    "def reverse2(str):\n",
    "    rev_str = ''\n",
    "    for i in str:\n",
    "        rev_str = i + rev_str\n",
    "    print(rev_str)\n",
    "\n",
    "reverse2('hello world2')"
   ]
  },
  {
   "cell_type": "code",
   "execution_count": 4,
   "id": "50efd16b-4fee-40cf-84a9-2786aa6e07cc",
   "metadata": {},
   "outputs": [
    {
     "name": "stdout",
     "output_type": "stream",
     "text": [
      "3dlrow olleh\n"
     ]
    }
   ],
   "source": [
    "# Solution 3\n",
    "\n",
    "def reverse3(str):\n",
    "    print(str[::-1])\n",
    "\n",
    "reverse('hello world3')"
   ]
  }
 ],
 "metadata": {
  "kernelspec": {
   "display_name": "Python 3 (ipykernel)",
   "language": "python",
   "name": "python3"
  },
  "language_info": {
   "codemirror_mode": {
    "name": "ipython",
    "version": 3
   },
   "file_extension": ".py",
   "mimetype": "text/x-python",
   "name": "python",
   "nbconvert_exporter": "python",
   "pygments_lexer": "ipython3",
   "version": "3.11.7"
  }
 },
 "nbformat": 4,
 "nbformat_minor": 5
}
